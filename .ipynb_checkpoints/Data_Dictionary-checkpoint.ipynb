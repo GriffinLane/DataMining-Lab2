{
 "cells": [
  {
   "cell_type": "markdown",
   "metadata": {},
   "source": [
    "# Data Dictionary"
   ]
  },
  {
   "cell_type": "markdown",
   "metadata": {},
   "source": [
    "## Bank Client Profile"
   ]
  },
  {
   "cell_type": "markdown",
   "metadata": {},
   "source": [
    "\n",
    "<style>\n",
    "table, th, td {\n",
    "    border: 1px solid black;\n",
    "    border-collapse: collapse;\n",
    "}\n",
    "th, td {\n",
    "    padding: 5px;\n",
    "}\n",
    "th {\n",
    "    text-align: left;\n",
    "}\n",
    "</style>\n",
    "<table style=\"width:100%\">\n",
    "  <tr>\n",
    "    <th>Column Name</th>\n",
    "    <th>Description</th> \n",
    "    <th>Type</th>\n",
    "  </tr>\n",
    "  <tr>\n",
    "    <td>age</td>\n",
    "    <td>Age of Client</td> \n",
    "    <td>Numeric</td>\n",
    "  </tr>\n",
    "  <tr>\n",
    "    <td>job</td>\n",
    "    <td>Type of job held ny client (for e.g. 'entrepreneur')</td> \n",
    "    <td>Categorical</td>\n",
    "  </tr>\n",
    "     <tr>\n",
    "    <td>marital</td>\n",
    "    <td>Marital status of bank client</td> \n",
    "    <td>Categorical</td>\n",
    "  </tr>\n",
    "    <tr>\n",
    "    <td>education</td>\n",
    "    <td>Level of education of the client</td> \n",
    "    <td>Categorical</td>\n",
    "  </tr>\n",
    "    <tr>\n",
    "    <td>default</td>\n",
    "    <td>If the client has credit in default</td> \n",
    "    <td>Categorical</td>\n",
    "  </tr>\n",
    "    <tr>\n",
    "    <td>housing</td>\n",
    "    <td>Level of education of the client</td> \n",
    "    <td>Categorical</td>\n",
    "  </tr>\n",
    "    <tr>\n",
    "    <td>loan</td>\n",
    "    <td>If the client has personal loan</td> \n",
    "    <td>Categorical</td>\n",
    "  </tr>\n",
    "</table>\n",
    "\n"
   ]
  },
  {
   "cell_type": "markdown",
   "metadata": {},
   "source": [
    "## Communication Metrics Related to Last Contact Made for Current Campaign"
   ]
  },
  {
   "cell_type": "markdown",
   "metadata": {},
   "source": [
    "<table style=\"width:100%\">\n",
    "  <tr>\n",
    "    <th>Column Name</th>\n",
    "    <th>Description</th> \n",
    "    <th>Type</th>\n",
    "  </tr>\n",
    "  <tr>\n",
    "    <td>contact</td>\n",
    "    <td>Type of communication contact</td> \n",
    "    <td>Categorical</td>\n",
    "  </tr>\n",
    "  <tr>\n",
    "    <td>month</td>\n",
    "    <td>Month when last contact was made with the client</td> \n",
    "    <td>Categorical</td>\n",
    "  </tr>\n",
    "    <tr>\n",
    "    <td>day_of_week</td>\n",
    "    <td>Day of the week when last contact was made</td> \n",
    "    <td>Categorical</td>\n",
    "  </tr>\n",
    "    <tr>\n",
    "    <td>duration</td>\n",
    "    <td>Duration in seconds of the last contact made</td> \n",
    "    <td>Numeric</td>\n",
    "  </tr>\n",
    "</table>"
   ]
  },
  {
   "cell_type": "markdown",
   "metadata": {},
   "source": [
    "## Communication Metrics Related to Contact Made for Current Campaign"
   ]
  },
  {
   "cell_type": "markdown",
   "metadata": {},
   "source": [
    "<table style=\"width:100%\">\n",
    "  <tr>\n",
    "    <th>Column Name</th>\n",
    "    <th>Description</th> \n",
    "    <th>Type</th>\n",
    "  </tr>\n",
    "  <tr>\n",
    "    <td>campaign</td>\n",
    "    <td>Number of contacts performed during this campaign for the specific client</td> \n",
    "    <td>Numeric</td>\n",
    "  </tr>\n",
    "  <tr>\n",
    "    <td>pdays</td>\n",
    "    <td>Number of days between last campaign contact and current campaign contact</td> \n",
    "    <td>Numeric</td>\n",
    "  </tr>\n",
    "    <tr>\n",
    "    <td>previous</td>\n",
    "    <td>Number of contacts made before this campaign with the client</td> \n",
    "    <td>Numeric</td>\n",
    "  </tr>\n",
    "    <tr>\n",
    "    <td>poutcome</td>\n",
    "    <td>Outcome of the previous marketing campaign</td> \n",
    "    <td>Categorical</td>\n",
    "  </tr>\n",
    "</table>"
   ]
  },
  {
   "cell_type": "markdown",
   "metadata": {},
   "source": [
    "## Socio-Economic Indices"
   ]
  },
  {
   "cell_type": "markdown",
   "metadata": {},
   "source": [
    "<table style=\"width:100%\">\n",
    "  <tr>\n",
    "    <th>Column Name</th>\n",
    "    <th>Description</th> \n",
    "    <th>Type</th>\n",
    "  </tr>\n",
    "  <tr>\n",
    "    <td>emp.var.rate</td>\n",
    "    <td>Employment Variation rate (quarterly indicator)</td> \n",
    "    <td>Numeric</td>\n",
    "  </tr>\n",
    "  <tr>\n",
    "    <td>cons.price.idx</td>\n",
    "    <td>Consumer Price Index (monthly indicator)</td> \n",
    "    <td>Numeric</td>\n",
    "  </tr>\n",
    "    <tr>\n",
    "    <td>cons.conf.idx</td>\n",
    "    <td>Consumer Confidence Index (monthly indicator)</td> \n",
    "    <td>Numeric</td>\n",
    "  </tr>\n",
    "    <tr>\n",
    "    <td>euribor3m</td>\n",
    "    <td>3 month Euribor (Euro Interbank Offered Rate) interest rate</td> \n",
    "    <td>Numeric</td>\n",
    "  </tr>\n",
    "    <tr>\n",
    "    <td>nr.employed</td>\n",
    "    <td>number of employees (quarterly indicator)</td> \n",
    "    <td>Numeric</td>\n",
    "  </tr>\n",
    "</table>"
   ]
  },
  {
   "cell_type": "markdown",
   "metadata": {},
   "source": [
    "## Output Variable"
   ]
  },
  {
   "cell_type": "markdown",
   "metadata": {},
   "source": [
    "<table style=\"width:100%\">\n",
    "  <tr>\n",
    "    <th>Column Name</th>\n",
    "    <th>Description</th> \n",
    "    <th>Type</th>\n",
    "  </tr>\n",
    "  <tr>\n",
    "    <td>y</td>\n",
    "    <td>Did the client subscribe to a term deposit</td> \n",
    "    <td>Binary (Y/N)</td>\n",
    "  </tr>\n",
    "</table>"
   ]
  },
  {
   "cell_type": "code",
   "execution_count": null,
   "metadata": {
    "collapsed": true
   },
   "outputs": [],
   "source": []
  }
 ],
 "metadata": {
  "kernelspec": {
   "display_name": "Python 3",
   "language": "python",
   "name": "python3"
  },
  "language_info": {
   "codemirror_mode": {
    "name": "ipython",
    "version": 3
   },
   "file_extension": ".py",
   "mimetype": "text/x-python",
   "name": "python",
   "nbconvert_exporter": "python",
   "pygments_lexer": "ipython3",
   "version": "3.6.0"
  }
 },
 "nbformat": 4,
 "nbformat_minor": 2
}
